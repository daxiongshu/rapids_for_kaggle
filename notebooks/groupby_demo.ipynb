{
 "cells": [
  {
   "cell_type": "code",
   "execution_count": 1,
   "metadata": {},
   "outputs": [],
   "source": [
    "import numpy as np\n",
    "import pandas as pd\n",
    "import cudf as gd\n",
    "from numba import cuda,jit,float32\n",
    "import math\n",
    "import time\n",
    "from scipy import stats\n",
    "from cudf_workaround import TPB,compute_mean_kernel,compute_std_kernel,compute_skew_kernel,compute_kurtosis_kernel\n",
    "from cudf_workaround import cudf_groupby_aggs"
   ]
  },
  {
   "cell_type": "markdown",
   "metadata": {},
   "source": [
    "# sanity check of correctness"
   ]
  },
  {
   "cell_type": "code",
   "execution_count": 2,
   "metadata": {},
   "outputs": [],
   "source": [
    "mean = np.zeros(1) # result\n",
    "std = np.zeros(1)\n",
    "skew = np.zeros(1)\n",
    "kurtosis = np.zeros(1)"
   ]
  },
  {
   "cell_type": "code",
   "execution_count": 3,
   "metadata": {},
   "outputs": [],
   "source": [
    "# to make a point, we examine a large dataframe with many small groups\n",
    "N = 100000000\n",
    "array = np.random.rand(N)\n",
    "df = pd.DataFrame({'a':array})\n",
    "df['group_id'] = np.random.randint(0,N//100,N) # group size is about 100"
   ]
  },
  {
   "cell_type": "code",
   "execution_count": 4,
   "metadata": {},
   "outputs": [
    {
     "name": "stdout",
     "output_type": "stream",
     "text": [
      "CPU times: user 4.15 s, sys: 1.63 s, total: 5.78 s\n",
      "Wall time: 5.83 s\n"
     ]
    }
   ],
   "source": [
    "%%time\n",
    "# TPB: threads per block\n",
    "compute_mean_kernel[1,TPB](array,mean) # 1 thread block per kernel\n",
    "compute_std_kernel[1,TPB](array,std)\n",
    "compute_skew_kernel[1,TPB](array,skew)\n",
    "compute_kurtosis_kernel[1,TPB](array,kurtosis)"
   ]
  },
  {
   "cell_type": "code",
   "execution_count": 5,
   "metadata": {},
   "outputs": [
    {
     "name": "stdout",
     "output_type": "stream",
     "text": [
      "[0.49999949] 0.49999326897828683\n",
      "[0.28843188] 0.28866113502333707\n",
      "[-7.64954748e-05] -1.1624572086195845e-05\n",
      "[-1.19952583] -1.1998401667470764\n",
      "CPU times: user 1min 5s, sys: 15.5 s, total: 1min 21s\n",
      "Wall time: 3.18 s\n"
     ]
    }
   ],
   "source": [
    "%%time\n",
    "print(mean,df['a'].mean())\n",
    "print(std,df['a'].std())\n",
    "print(skew,df['a'].skew())\n",
    "print(kurtosis,df['a'].kurtosis())"
   ]
  },
  {
   "cell_type": "markdown",
   "metadata": {},
   "source": [
    "gpu code is not faster because we only use 1 thread block of 32 threads in the kernel. However, the same setup could lead to significant speedup when used with groupby-aggregation, especially when there are a large number of small groups."
   ]
  },
  {
   "cell_type": "markdown",
   "metadata": {},
   "source": [
    "# Groupby aggregation example"
   ]
  },
  {
   "cell_type": "code",
   "execution_count": 6,
   "metadata": {},
   "outputs": [
    {
     "name": "stdout",
     "output_type": "stream",
     "text": [
      "CPU times: user 728 ms, sys: 480 ms, total: 1.21 s\n",
      "Wall time: 1.21 s\n"
     ]
    }
   ],
   "source": [
    "%%time\n",
    "gdf = gd.DataFrame.from_pandas(df)"
   ]
  },
  {
   "cell_type": "code",
   "execution_count": 7,
   "metadata": {},
   "outputs": [
    {
     "name": "stdout",
     "output_type": "stream",
     "text": [
      "CPU times: user 2.9 s, sys: 1.26 s, total: 4.16 s\n",
      "Wall time: 4.16 s\n"
     ]
    }
   ],
   "source": [
    "%%time\n",
    "# cudf with GPU\n",
    "# cudf-0.4 supports ['mean','max','min','sum','count'] for groupby aggregation\n",
    "aggs = {'a':['mean','max','min','sum','count']}\n",
    "gdf_res = gdf.groupby('group_id').agg(aggs)"
   ]
  },
  {
   "cell_type": "code",
   "execution_count": 8,
   "metadata": {},
   "outputs": [
    {
     "name": "stdout",
     "output_type": "stream",
     "text": [
      "1:float64\n",
      "2:int64\n",
      "3:float64\n",
      "1:float64\n",
      "1:float64\n",
      "2:int64\n",
      "3:float64\n",
      "1:float64\n",
      "1:float64\n",
      "1:float64\n",
      "2:int64\n",
      "3:float64\n",
      "1:float64\n",
      "1:float64\n",
      "1:float64\n",
      "1:float64\n",
      "2:int64\n",
      "3:int64\n",
      "1:float64\n",
      "1:float64\n",
      "1:float64\n",
      "1:float64\n",
      "1:int64\n",
      "2:int64\n",
      "3:float32\n",
      "1:float64\n",
      "1:float64\n",
      "1:float64\n",
      "1:float64\n",
      "1:int64\n",
      "1:float32\n",
      "2:int64\n",
      "3:float32\n",
      "1:float64\n",
      "1:float64\n",
      "1:float64\n",
      "1:float64\n",
      "1:int64\n",
      "1:float32\n",
      "1:float32\n",
      "2:int64\n",
      "3:float32\n",
      "1:float64\n",
      "1:float64\n",
      "1:float64\n",
      "1:float64\n",
      "1:int64\n",
      "1:float32\n",
      "1:float32\n",
      "1:float32\n",
      "2:int64\n",
      "3:float32\n",
      "CPU times: user 7.61 s, sys: 2.6 s, total: 10.2 s\n",
      "Wall time: 10.2 s\n"
     ]
    }
   ],
   "source": [
    "%%time\n",
    "# cudf with GPU\n",
    "# for functions not supported by cudf yet, we can implement workarounds with cudf's premitives.\n",
    "# ['std','var','skew','kurtosis'] are implemented in cudf_workarounds.py\n",
    "# a helper function cudf_groupby_aggs can be used for all functions.\n",
    "\"\"\"\n",
    "def cudf_groupby_aggs(df,group_id_col,aggs):\n",
    "    \n",
    "    Parameters\n",
    "    ----------\n",
    "    df : cudf dataframe\n",
    "        dataframe to be grouped\n",
    "    group_id_col : string\n",
    "        name of the column which is used as the key of the group\n",
    "    aggs : dictionary\n",
    "        key is the name of column for which aggregation is calculated\n",
    "        values is the name of function for aggregation\n",
    "    Returns\n",
    "    -------\n",
    "    dg : cudf dataframe\n",
    "        result of groupby aggregation\n",
    "\"\"\"\n",
    "aggs = {'a':['mean','max','min','sum','count','std','var','skew','kurtosis']}\n",
    "gdf_res = cudf_groupby_aggs(gdf,group_id_col='group_id',aggs=aggs)"
   ]
  },
  {
   "cell_type": "code",
   "execution_count": 9,
   "metadata": {},
   "outputs": [
    {
     "name": "stdout",
     "output_type": "stream",
     "text": [
      "CPU times: user 3min 41s, sys: 8.38 s, total: 3min 49s\n",
      "Wall time: 3min 20s\n"
     ]
    }
   ],
   "source": [
    "%%time\n",
    "# pandas with cpu\n",
    "# kurtosis is not supported in pandas' agg by default.\n",
    "aggs = {'a':['mean','max','min','sum','count','std','var','skew']}\n",
    "df_res = df.groupby('group_id').agg(aggs)"
   ]
  },
  {
   "cell_type": "code",
   "execution_count": 10,
   "metadata": {},
   "outputs": [
    {
     "name": "stdout",
     "output_type": "stream",
     "text": [
      "CPU times: user 3.01 s, sys: 96 ms, total: 3.11 s\n",
      "Wall time: 77.7 ms\n"
     ]
    }
   ],
   "source": [
    "%%time\n",
    "l1 = df_res.columns.get_level_values(0).values\n",
    "l2 = df_res.columns.get_level_values(1).values\n",
    "df_res.columns = [\"%s_%s\"%(j,i) for i,j in zip(l1,l2)]\n",
    "df_res = df_res.reset_index()\n",
    "df_res = df_res.sort_values('group_id')"
   ]
  },
  {
   "cell_type": "code",
   "execution_count": 11,
   "metadata": {},
   "outputs": [
    {
     "data": {
      "text/html": [
       "<div>\n",
       "<style>\n",
       "    .dataframe thead tr:only-child th {\n",
       "        text-align: right;\n",
       "    }\n",
       "\n",
       "    .dataframe thead th {\n",
       "        text-align: left;\n",
       "    }\n",
       "\n",
       "    .dataframe tbody tr th {\n",
       "        vertical-align: top;\n",
       "    }\n",
       "</style>\n",
       "<table border=\"1\" class=\"dataframe\">\n",
       "  <thead>\n",
       "    <tr style=\"text-align: right;\">\n",
       "      <th></th>\n",
       "      <th>group_id</th>\n",
       "      <th>mean_a</th>\n",
       "      <th>max_a</th>\n",
       "      <th>min_a</th>\n",
       "      <th>sum_a</th>\n",
       "      <th>count_a</th>\n",
       "      <th>std_a</th>\n",
       "      <th>var_a</th>\n",
       "      <th>skew_a</th>\n",
       "    </tr>\n",
       "  </thead>\n",
       "  <tbody>\n",
       "    <tr>\n",
       "      <th>0</th>\n",
       "      <td>0</td>\n",
       "      <td>0.504853</td>\n",
       "      <td>0.996404</td>\n",
       "      <td>0.002265</td>\n",
       "      <td>52.504705</td>\n",
       "      <td>104</td>\n",
       "      <td>0.301911</td>\n",
       "      <td>0.091150</td>\n",
       "      <td>-0.062360</td>\n",
       "    </tr>\n",
       "    <tr>\n",
       "      <th>1</th>\n",
       "      <td>1</td>\n",
       "      <td>0.489854</td>\n",
       "      <td>0.988171</td>\n",
       "      <td>0.009025</td>\n",
       "      <td>51.924545</td>\n",
       "      <td>106</td>\n",
       "      <td>0.268501</td>\n",
       "      <td>0.072093</td>\n",
       "      <td>0.143553</td>\n",
       "    </tr>\n",
       "    <tr>\n",
       "      <th>2</th>\n",
       "      <td>2</td>\n",
       "      <td>0.459487</td>\n",
       "      <td>0.981849</td>\n",
       "      <td>0.000610</td>\n",
       "      <td>44.570211</td>\n",
       "      <td>97</td>\n",
       "      <td>0.263458</td>\n",
       "      <td>0.069410</td>\n",
       "      <td>0.097250</td>\n",
       "    </tr>\n",
       "    <tr>\n",
       "      <th>3</th>\n",
       "      <td>3</td>\n",
       "      <td>0.476552</td>\n",
       "      <td>0.983754</td>\n",
       "      <td>0.011389</td>\n",
       "      <td>50.991013</td>\n",
       "      <td>107</td>\n",
       "      <td>0.277920</td>\n",
       "      <td>0.077239</td>\n",
       "      <td>0.142719</td>\n",
       "    </tr>\n",
       "    <tr>\n",
       "      <th>4</th>\n",
       "      <td>4</td>\n",
       "      <td>0.472198</td>\n",
       "      <td>0.994980</td>\n",
       "      <td>0.006389</td>\n",
       "      <td>42.497792</td>\n",
       "      <td>90</td>\n",
       "      <td>0.300784</td>\n",
       "      <td>0.090471</td>\n",
       "      <td>0.158511</td>\n",
       "    </tr>\n",
       "  </tbody>\n",
       "</table>\n",
       "</div>"
      ],
      "text/plain": [
       "   group_id    mean_a     max_a     min_a      sum_a  count_a     std_a  \\\n",
       "0         0  0.504853  0.996404  0.002265  52.504705      104  0.301911   \n",
       "1         1  0.489854  0.988171  0.009025  51.924545      106  0.268501   \n",
       "2         2  0.459487  0.981849  0.000610  44.570211       97  0.263458   \n",
       "3         3  0.476552  0.983754  0.011389  50.991013      107  0.277920   \n",
       "4         4  0.472198  0.994980  0.006389  42.497792       90  0.300784   \n",
       "\n",
       "      var_a    skew_a  \n",
       "0  0.091150 -0.062360  \n",
       "1  0.072093  0.143553  \n",
       "2  0.069410  0.097250  \n",
       "3  0.077239  0.142719  \n",
       "4  0.090471  0.158511  "
      ]
     },
     "execution_count": 11,
     "metadata": {},
     "output_type": "execute_result"
    }
   ],
   "source": [
    "df_res.head()"
   ]
  },
  {
   "cell_type": "code",
   "execution_count": 12,
   "metadata": {},
   "outputs": [
    {
     "name": "stdout",
     "output_type": "stream",
     "text": [
      "CPU times: user 5.41 s, sys: 276 ms, total: 5.69 s\n",
      "Wall time: 297 ms\n"
     ]
    }
   ],
   "source": [
    "%%time\n",
    "gdf_res = gdf_res.sort_values(by='group_id')\n",
    "gdf_res = gdf_res.to_pandas()"
   ]
  },
  {
   "cell_type": "code",
   "execution_count": 13,
   "metadata": {},
   "outputs": [
    {
     "data": {
      "text/html": [
       "<div>\n",
       "<style>\n",
       "    .dataframe thead tr:only-child th {\n",
       "        text-align: right;\n",
       "    }\n",
       "\n",
       "    .dataframe thead th {\n",
       "        text-align: left;\n",
       "    }\n",
       "\n",
       "    .dataframe tbody tr th {\n",
       "        vertical-align: top;\n",
       "    }\n",
       "</style>\n",
       "<table border=\"1\" class=\"dataframe\">\n",
       "  <thead>\n",
       "    <tr style=\"text-align: right;\">\n",
       "      <th></th>\n",
       "      <th>group_id</th>\n",
       "      <th>mean_a</th>\n",
       "      <th>max_a</th>\n",
       "      <th>min_a</th>\n",
       "      <th>sum_a</th>\n",
       "      <th>count_a</th>\n",
       "      <th>std_a</th>\n",
       "      <th>var_a</th>\n",
       "      <th>skew_a</th>\n",
       "      <th>kurtosis_a</th>\n",
       "    </tr>\n",
       "  </thead>\n",
       "  <tbody>\n",
       "    <tr>\n",
       "      <th>5120</th>\n",
       "      <td>0</td>\n",
       "      <td>0.504853</td>\n",
       "      <td>0.996404</td>\n",
       "      <td>0.002265</td>\n",
       "      <td>52.504705</td>\n",
       "      <td>104</td>\n",
       "      <td>0.301911</td>\n",
       "      <td>0.091150</td>\n",
       "      <td>-0.062360</td>\n",
       "      <td>-1.360296</td>\n",
       "    </tr>\n",
       "    <tr>\n",
       "      <th>5121</th>\n",
       "      <td>1</td>\n",
       "      <td>0.489854</td>\n",
       "      <td>0.988171</td>\n",
       "      <td>0.009025</td>\n",
       "      <td>51.924545</td>\n",
       "      <td>106</td>\n",
       "      <td>0.268501</td>\n",
       "      <td>0.072093</td>\n",
       "      <td>0.143553</td>\n",
       "      <td>-1.061151</td>\n",
       "    </tr>\n",
       "    <tr>\n",
       "      <th>5122</th>\n",
       "      <td>2</td>\n",
       "      <td>0.459487</td>\n",
       "      <td>0.981849</td>\n",
       "      <td>0.000610</td>\n",
       "      <td>44.570211</td>\n",
       "      <td>97</td>\n",
       "      <td>0.263458</td>\n",
       "      <td>0.069410</td>\n",
       "      <td>0.097251</td>\n",
       "      <td>-0.918109</td>\n",
       "    </tr>\n",
       "    <tr>\n",
       "      <th>5123</th>\n",
       "      <td>3</td>\n",
       "      <td>0.476552</td>\n",
       "      <td>0.983754</td>\n",
       "      <td>0.011389</td>\n",
       "      <td>50.991013</td>\n",
       "      <td>107</td>\n",
       "      <td>0.277920</td>\n",
       "      <td>0.077239</td>\n",
       "      <td>0.142719</td>\n",
       "      <td>-1.082183</td>\n",
       "    </tr>\n",
       "    <tr>\n",
       "      <th>5124</th>\n",
       "      <td>4</td>\n",
       "      <td>0.472198</td>\n",
       "      <td>0.994980</td>\n",
       "      <td>0.006389</td>\n",
       "      <td>42.497792</td>\n",
       "      <td>90</td>\n",
       "      <td>0.300784</td>\n",
       "      <td>0.090471</td>\n",
       "      <td>0.158511</td>\n",
       "      <td>-1.226775</td>\n",
       "    </tr>\n",
       "  </tbody>\n",
       "</table>\n",
       "</div>"
      ],
      "text/plain": [
       "      group_id    mean_a     max_a     min_a      sum_a  count_a     std_a  \\\n",
       "5120         0  0.504853  0.996404  0.002265  52.504705      104  0.301911   \n",
       "5121         1  0.489854  0.988171  0.009025  51.924545      106  0.268501   \n",
       "5122         2  0.459487  0.981849  0.000610  44.570211       97  0.263458   \n",
       "5123         3  0.476552  0.983754  0.011389  50.991013      107  0.277920   \n",
       "5124         4  0.472198  0.994980  0.006389  42.497792       90  0.300784   \n",
       "\n",
       "         var_a    skew_a  kurtosis_a  \n",
       "5120  0.091150 -0.062360   -1.360296  \n",
       "5121  0.072093  0.143553   -1.061151  \n",
       "5122  0.069410  0.097251   -0.918109  \n",
       "5123  0.077239  0.142719   -1.082183  \n",
       "5124  0.090471  0.158511   -1.226775  "
      ]
     },
     "execution_count": 13,
     "metadata": {},
     "output_type": "execute_result"
    }
   ],
   "source": [
    "gdf_res.head()"
   ]
  },
  {
   "cell_type": "code",
   "execution_count": 14,
   "metadata": {},
   "outputs": [
    {
     "name": "stdout",
     "output_type": "stream",
     "text": [
      "group_id, 0.000000\n",
      "mean_a, 0.000000\n",
      "max_a, 0.000000\n",
      "min_a, 0.000000\n",
      "sum_a, 0.000000\n",
      "count_a, 0.000000\n",
      "std_a, 0.000000\n",
      "var_a, 0.000000\n",
      "skew_a, 0.000000\n"
     ]
    }
   ],
   "source": [
    "def rmse(a,b):\n",
    "    return np.mean((a-b)**2)**0.5\n",
    "\n",
    "for col in df_res.columns:\n",
    "    if col in gdf_res.columns:\n",
    "        print(\"%s, %.6f\"%(col,rmse(df_res[col].values,gdf_res[col].values)))"
   ]
  },
  {
   "cell_type": "code",
   "execution_count": null,
   "metadata": {},
   "outputs": [],
   "source": []
  }
 ],
 "metadata": {
  "kernelspec": {
   "display_name": "Python 3",
   "language": "python",
   "name": "python3"
  },
  "language_info": {
   "codemirror_mode": {
    "name": "ipython",
    "version": 3
   },
   "file_extension": ".py",
   "mimetype": "text/x-python",
   "name": "python",
   "nbconvert_exporter": "python",
   "pygments_lexer": "ipython3",
   "version": "3.6.6"
  }
 },
 "nbformat": 4,
 "nbformat_minor": 2
}
