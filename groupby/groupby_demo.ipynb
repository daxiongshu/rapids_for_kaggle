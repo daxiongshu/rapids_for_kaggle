{
 "cells": [
  {
   "cell_type": "code",
   "execution_count": 1,
   "metadata": {},
   "outputs": [],
   "source": [
    "import numpy as np\n",
    "import pandas as pd\n",
    "from numba import cuda,jit,float32\n",
    "import math\n",
    "import time\n",
    "from scipy import stats\n",
    "from cudf_workaround import compute_mean_kernel,compute_std_kernel,compute_skew_kernel,compute_kurtosis_kernel"
   ]
  },
  {
   "cell_type": "code",
   "execution_count": 2,
   "metadata": {},
   "outputs": [],
   "source": [
    "tpb = 32\n",
    "bpg = 1\n",
    "mean = np.zeros(1)\n",
    "std = np.zeros(1)\n",
    "skew = np.zeros(1)\n",
    "kurtosis = np.zeros(1)"
   ]
  },
  {
   "cell_type": "code",
   "execution_count": 3,
   "metadata": {},
   "outputs": [],
   "source": [
    "N = 10000000\n",
    "array = np.arange(N)\n",
    "df = pd.DataFrame({'a':array})"
   ]
  },
  {
   "cell_type": "code",
   "execution_count": 4,
   "metadata": {},
   "outputs": [],
   "source": [
    "compute_mean_kernel[bpg,tpb](array,mean)\n",
    "compute_std_kernel[bpg,tpb](array,std)\n",
    "compute_skew_kernel[bpg,tpb](array,skew)\n",
    "compute_kurtosis_kernel[bpg,tpb](array,kurtosis)"
   ]
  },
  {
   "cell_type": "code",
   "execution_count": 5,
   "metadata": {},
   "outputs": [
    {
     "name": "stdout",
     "output_type": "stream",
     "text": [
      "[4999976.] 4999999.5\n",
      "[2886663.] 2886751.49028566\n",
      "[2.43993636e-05] 2.3619522993930345e-14\n",
      "[-1.19997025] -1.1999999999999198\n"
     ]
    }
   ],
   "source": [
    "print(mean,df['a'].mean())\n",
    "print(std,df['a'].std())\n",
    "print(skew,df['a'].skew())\n",
    "print(kurtosis,df['a'].kurtosis())"
   ]
  },
  {
   "cell_type": "code",
   "execution_count": null,
   "metadata": {},
   "outputs": [],
   "source": []
  }
 ],
 "metadata": {
  "kernelspec": {
   "display_name": "Python 3",
   "language": "python",
   "name": "python3"
  },
  "language_info": {
   "codemirror_mode": {
    "name": "ipython",
    "version": 3
   },
   "file_extension": ".py",
   "mimetype": "text/x-python",
   "name": "python",
   "nbconvert_exporter": "python",
   "pygments_lexer": "ipython3",
   "version": "3.6.6"
  }
 },
 "nbformat": 4,
 "nbformat_minor": 2
}
